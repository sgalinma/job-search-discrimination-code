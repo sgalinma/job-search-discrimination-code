{
 "cells": [
  {
   "cell_type": "markdown",
   "metadata": {},
   "source": [
    "This work is licensed under the Creative Commons Attribution 4.0 Unported License. To view a copy of this license, visit http://creativecommons.org/licenses/by/4.0/."
   ]
  },
  {
   "cell_type": "markdown",
   "metadata": {},
   "source": [
    "#### Importing libraries"
   ]
  },
  {
   "cell_type": "code",
   "execution_count": null,
   "metadata": {},
   "outputs": [],
   "source": [
    "import fairsearchcore as fsc\n",
    "from fairsearchcore.models import FairScoreDoc\n",
    "import math\n",
    "import sys\n",
    "import warnings\n",
    "warnings.filterwarnings(\"ignore\")"
   ]
  },
  {
   "cell_type": "markdown",
   "metadata": {},
   "source": [
    "#### Loading variables from another notebook"
   ]
  },
  {
   "cell_type": "code",
   "execution_count": null,
   "metadata": {},
   "outputs": [],
   "source": [
    "%store -r df_u1\n",
    "%store -r queries_fr_l\n",
    "%store -r queries_fr_v\n",
    "%store -r queries_es_l\n",
    "%store -r queries_es_v\n",
    "%store -r queries_uk_l\n",
    "%store -r queries_uk_v\n",
    "\n",
    "%store -r df_u2\n",
    "%store -r intersection\n",
    "%store -r f_queries_co\n",
    "%store -r f_queries_mx\n",
    "%store -r f_queries_es\n",
    "%store -r intersection"
   ]
  },
  {
   "cell_type": "markdown",
   "metadata": {},
   "source": [
    "#### Building model from ranking information"
   ]
  },
  {
   "cell_type": "code",
   "execution_count": null,
   "metadata": {},
   "outputs": [],
   "source": [
    "def build_ranking_model(is_protected_list):\n",
    "    size = len(is_protected_list)\n",
    "    unfair_ranking = []\n",
    "    for i in range(size):\n",
    "        unfair_ranking.append(FairScoreDoc((size-i), (size-i), is_protected_list[i]))\n",
    "    return unfair_ranking"
   ]
  },
  {
   "cell_type": "markdown",
   "metadata": {},
   "source": [
    "#### Determining if a ranking is fair or not given the model"
   ]
  },
  {
   "cell_type": "code",
   "execution_count": null,
   "metadata": {},
   "outputs": [],
   "source": [
    "def is_ranking_fair(ranking, p, k, alpha=0.1):\n",
    "    #k = 20 # number of topK elements returned (value should be between 10 and 400)\n",
    "    #p = 0.1 # proportion of protected candidates in the topK elements (value should be between 0.02 and 0.98) \n",
    "    #alpha = 0.1 # significance level (value should be between 0.01 and 0.15)\n",
    "    \n",
    "    fair = fsc.Fair(k, p, alpha)\n",
    "    return fair.is_fair(ranking)"
   ]
  },
  {
   "cell_type": "markdown",
   "metadata": {},
   "source": [
    "#### Functions to determine if a person is part of the protected group or not (depending on the discrimination type)"
   ]
  },
  {
   "cell_type": "code",
   "execution_count": null,
   "metadata": {},
   "outputs": [],
   "source": [
    "def sex_discrimination(row, protected_sex='female'):\n",
    "    return row['sex'] == protected_sex        \n",
    "\n",
    "def calculate_age_median(df):\n",
    "    return df['age'].median()\n",
    "\n",
    "def old_age_discrimination(row, median):\n",
    "    return age_discrimination(row, median, comparator = '>=')\n",
    "\n",
    "def young_age_discrimination(row, median):\n",
    "    return age_discrimination(row, median, comparator = '<')\n",
    "\n",
    "def age_discrimination(row, median, comparator):\n",
    "    age = row['age']\n",
    "    return eval(str(row['age']) + comparator + str(median))           \n",
    "\n",
    "\n",
    "def translate_if_foreigner(key):\n",
    "    protected_value = False\n",
    "    if key == 'foreigner':\n",
    "        protected_value = True\n",
    "    return protected_value\n",
    "\n",
    "def nationality_discrimination(row, protected_value = 'foreigner'):\n",
    "    protected_value = translate_if_foreigner(protected_value)\n",
    "    return row['is_foreigner'] == protected_value \n",
    "\n",
    "\n",
    "def translate_if_has_photo(key):\n",
    "    protected_value = False\n",
    "    if key == 'with photo':\n",
    "        protected_value = True\n",
    "    return protected_value\n",
    "\n",
    "def photo_discrimination(row, protected_value = 'with photo'):\n",
    "    protected_value = translate_if_has_photo(protected_value)\n",
    "    return row['has_photo'] == protected_value \n",
    "\n",
    "\n",
    "def translate_if_is_premium(key):\n",
    "    protected_value = False\n",
    "    if key == 'premium':\n",
    "        protected_value = True\n",
    "    return protected_value\n",
    "\n",
    "def premium_discrimination(row, protected_value = 'premium'):\n",
    "    protected_value = translate_if_is_premium(protected_value)\n",
    "    return row['is_premium'] == protected_value"
   ]
  },
  {
   "cell_type": "markdown",
   "metadata": {},
   "source": [
    "#### Evaluating if the ranking is fair or not for different values of proportion"
   ]
  },
  {
   "cell_type": "code",
   "execution_count": null,
   "metadata": {},
   "outputs": [],
   "source": [
    "def get_fairness_metrics(df, queries, source, country, discrimination_function, positional_arguments, n, tag_name='query'):\n",
    "    protected_lists = []\n",
    "    p_values = [0.02, 0.1, 0.2, 0.3, 0.4, 0.5, 0.6, 0.7, 0.8, 0.9, 0.98]\n",
    "    print(\"{: >15} {: >10}\".format(\"Query\",\"p = True\"))\n",
    "    print('          '+'-'*20)\n",
    "    \n",
    "    if discrimination_function == old_age_discrimination or discrimination_function == young_age_discrimination:\n",
    "        median = 35\n",
    "        print(\"Median age= \",median)\n",
    "\n",
    "    for q in sorted(list(queries)):\n",
    "        df_u1_res = df[(df[tag_name] == q) & (df['source'] == source) & (df['country'] == country)].sort_values('ranking')[:n]\n",
    "        if len(df_u1_res) == n: # if it has the minimum number of elements (minimum number of elements without unknowns for all queries)\n",
    "            is_protected_list = []\n",
    "            for i in range(len(df_u1_res)):\n",
    "                if discrimination_function == old_age_discrimination or discrimination_function == young_age_discrimination:\n",
    "                    condition = discrimination_function(df_u1_res.iloc[i], median)\n",
    "                else:\n",
    "                    condition = discrimination_function(df_u1_res.iloc[i],positional_arguments['protected_value'])\n",
    "                if condition:\n",
    "                    is_protected_list.append(True)\n",
    "                else:\n",
    "                    is_protected_list.append(False)\n",
    "            #print(is_protected_list)\n",
    "            protected_lists.append(is_protected_list)\n",
    "            ranking = build_ranking_model(is_protected_list)\n",
    "\n",
    "            is_fair_list = list([bool(is_ranking_fair(ranking,p, n)) for p in p_values])\n",
    "            if True in is_fair_list:\n",
    "                p_index = len(is_fair_list) - 1 - is_fair_list[::-1].index(True)\n",
    "                p_max = p_values[p_index]\n",
    "            else:\n",
    "                p_max = \"-\"\n",
    "            #print(is_fair_list)\n",
    "            if len(q) > 15: \n",
    "                q = q[:11]+'.'\n",
    "            print(\"{: >15} {: >10}\".format(q,p_max))"
   ]
  },
  {
   "cell_type": "markdown",
   "metadata": {},
   "source": [
    "#### Query with less elements"
   ]
  },
  {
   "cell_type": "code",
   "execution_count": null,
   "metadata": {},
   "outputs": [],
   "source": [
    "def get_min_size_elements(df, queries, source, country, min_elements=10, tag_name='query'):\n",
    "    min_size = float('inf')\n",
    "    min_query = \"\"\n",
    "    \"\"\"\n",
    "    print(\"{: >20} {: >10}\".format(\"Query\",\"Size\"))\n",
    "    print(\"-----------------------------------------\")\n",
    "    \"\"\"\n",
    "\n",
    "    for q in queries:\n",
    "        size = len(df[(df[tag_name]==q) & (df['source'] == source) & (df['country'] == country)])\n",
    "        if (size < min_size) and (size >= min_elements):\n",
    "            min_size = size\n",
    "            min_query = q\n",
    "            \"\"\"\n",
    "            print(\"\\n\")\n",
    "            print(\"{: >20} {: >10}\".format(q,size))\n",
    "    \n",
    "    \n",
    "    print(\"\\n\")\n",
    "    print(\"{: >20} {: >10}\".format(q,size))\n",
    "    \"\"\"\n",
    "    return min_size"
   ]
  },
  {
   "cell_type": "markdown",
   "metadata": {},
   "source": [
    "#### Data collected from Linkedin and Viadeo sites ingnoring unknown values"
   ]
  },
  {
   "cell_type": "code",
   "execution_count": null,
   "metadata": {},
   "outputs": [],
   "source": [
    "df_u1_sex_filtered = df_u1[(df_u1['sex'] != None) & (df_u1['sex'] != 'unknown')]\n",
    "df_u1_age_filtered = df_u1[df_u1.age.notnull() & df_u1.age.dropna()]\n",
    "df_u1_nationality_filtered = df_u1[df_u1.is_foreigner.notnull() &  (df_u1['is_foreigner']!='unknown') & (df_u1['is_foreigner']!='tooshort')]\n",
    "df_u1_photo_filtered = df_u1[df_u1.has_photo.notnull()]\n",
    "df_u1_premium_filtered = df_u1[df_u1.is_premium.notnull()]"
   ]
  },
  {
   "cell_type": "markdown",
   "metadata": {},
   "source": [
    "#### Getting metrics for the different data sources and countries considered"
   ]
  },
  {
   "cell_type": "code",
   "execution_count": null,
   "metadata": {},
   "outputs": [],
   "source": [
    "def print_fairness_statistics_u1(country):\n",
    "    if country == 'Spain':\n",
    "        queries_l = queries_es_l\n",
    "        queries_v = queries_es_v\n",
    "    elif country == 'United Kingdom':\n",
    "        queries_l = queries_uk_l \n",
    "        queries_v = queries_uk_v\n",
    "    elif country == 'France':\n",
    "        queries_l = queries_fr_l\n",
    "        queries_v = queries_fr_v\n",
    "    else:\n",
    "        print(\"Wrong country\")\n",
    "        return\n",
    "        \n",
    "    # FEMALE\n",
    "    print(\"Source: Linkedin \\nCountry: \",country)\n",
    "    min_size = get_min_size_elements(df_u1_sex_filtered, queries_l, source='linkedin', country=country)\n",
    "    print(\"Ranking size: \",min_size)\n",
    "    print(\"Protected group: female\\n\")\n",
    "    get_fairness_metrics(df_u1_sex_filtered, queries_l, 'linkedin', country, sex_discrimination, {'df':df_u1, 'protected_value':'female'}, min_size)\n",
    "\n",
    "    print(\"Source: Viadeo \\nCountry: \",country)\n",
    "    min_size =get_min_size_elements(df_u1_sex_filtered, queries_v, source = 'viadeo', country=country)\n",
    "    print(\"Ranking size: \",min_size)\n",
    "    print(\"Protected group: female\\n\")\n",
    "    get_fairness_metrics(df_u1_sex_filtered, queries_v, 'viadeo', country, sex_discrimination, {'df':df_u1, 'protected_value':'female'}, min_size)\n",
    "\n",
    "    # OLD PEOPLE\n",
    "    print(\"Source: Linkedin \\nCountry: \",country)\n",
    "    min_size = get_min_size_elements(df_u1_age_filtered, queries_l, source='linkedin', country=country)\n",
    "    print(\"Ranking size: \",min_size)\n",
    "    print(\"Protected group: old people\\n\")\n",
    "    get_fairness_metrics(df_u1_age_filtered, queries_l, 'linkedin', country, old_age_discrimination, {'df':df_u1}, min_size)\n",
    "\n",
    "    print(\"Source: Viadeo \\nCountry: \",country)\n",
    "    min_size = get_min_size_elements(df_u1_age_filtered, queries_v, source='viadeo', country=country)\n",
    "    print(\"Ranking size: \",min_size)\n",
    "    print(\"Protected group: old people\\n\")\n",
    "    get_fairness_metrics(df_u1_age_filtered, queries_v, 'viadeo', country, old_age_discrimination, {'df':df_u1}, min_size)\n",
    "\n",
    "    # YOUNG PEOPLE\n",
    "    print(\"Source: Linkedin \\nCountry: \",country)\n",
    "    min_size = get_min_size_elements(df_u1_age_filtered, queries_l, source='linkedin', country=country)\n",
    "    print(\"Ranking size: \",min_size)\n",
    "    print(\"Protected group: young people\\n\")\n",
    "    get_fairness_metrics(df_u1_age_filtered, queries_l, 'linkedin', country, young_age_discrimination, {'df':df_u1}, min_size)\n",
    "\n",
    "    print(\"Source: Viadeo \\nCountry: \",country)\n",
    "    min_size = get_min_size_elements(df_u1_age_filtered, queries_v, source='viadeo', country=country)\n",
    "    print(\"Ranking size: \",min_size)\n",
    "    print(\"Protected group: young people\\n\")\n",
    "    get_fairness_metrics(df_u1_age_filtered, queries_v, 'viadeo', country, young_age_discrimination, {'df':df_u1}, min_size)\n",
    "\n",
    "    \n",
    "    # FOREIGNER PEOPLE\n",
    "    print(\"Source: Linkedin \\nCountry: \",country)\n",
    "    min_size = get_min_size_elements(df_u1_nationality_filtered, queries_l, source='linkedin', country=country)\n",
    "    print(\"Ranking size: \",min_size)\n",
    "    print(\"Protected group: foreigner people\\n\")\n",
    "    get_fairness_metrics(df_u1_nationality_filtered, queries_l, 'linkedin', country, nationality_discrimination, {'df':df_u1, 'protected_value':'foreigner'}, min_size)\n",
    "\n",
    "    print(\"Source: Viadeo \\nCountry: \",country)\n",
    "    min_size = get_min_size_elements(df_u1_nationality_filtered, queries_v, source='viadeo', country=country)\n",
    "    print(\"Ranking size: \",min_size)\n",
    "    print(\"Protected group: foreigner people\\n\")\n",
    "    get_fairness_metrics(df_u1_nationality_filtered, queries_v, 'viadeo', country, nationality_discrimination, {'df':df_u1, 'protected_value':'foreigner'}, min_size)\n",
    "\n",
    "    # NON FOREIGNER PEOPLE\n",
    "    print(\"Source: Linkedin \\nCountry: \",country)\n",
    "    min_size = get_min_size_elements(df_u1_nationality_filtered, queries_l, source='linkedin', country=country)\n",
    "    print(\"Ranking size: \",min_size)\n",
    "    print(\"Protected group: not foreigner people\\n\")\n",
    "    get_fairness_metrics(df_u1_nationality_filtered, queries_l, 'linkedin', country, nationality_discrimination, {'df':df_u1, 'protected_value':'not foreigner'}, min_size)\n",
    "\n",
    "    print(\"Source: Viadeo \\nCountry: \",country)\n",
    "    min_size = get_min_size_elements(df_u1_nationality_filtered, queries_v, source='viadeo', country=country)\n",
    "    print(\"Ranking size: \",min_size)\n",
    "    print(\"Protected group: not foreigner people\\n\")\n",
    "    get_fairness_metrics(df_u1_nationality_filtered, queries_v, 'viadeo', country, nationality_discrimination, {'df':df_u1, 'protected_value':'not foreigner'}, min_size)\n",
    "    "
   ]
  },
  {
   "cell_type": "markdown",
   "metadata": {},
   "source": [
    "#### Showing metrics"
   ]
  },
  {
   "cell_type": "code",
   "execution_count": null,
   "metadata": {},
   "outputs": [],
   "source": [
    "# SPAIN\n",
    "sys.stdout = open('fairness_spain_u1.txt', 'w')\n",
    "print_fairness_statistics_u1(country='Spain')\n",
    "\n",
    "# FRANCE\n",
    "sys.stdout = open('fairness_france_u1.txt', 'w')\n",
    "print_fairness_statistics_u1(country='France')\n",
    "\n",
    "# UK\n",
    "sys.stdout = open('fairness_uk_u1.txt', 'w')\n",
    "print_fairness_statistics_u1(country='United Kingdom')"
   ]
  },
  {
   "cell_type": "markdown",
   "metadata": {},
   "source": [
    "#### Other general statistics"
   ]
  },
  {
   "cell_type": "code",
   "execution_count": null,
   "metadata": {},
   "outputs": [],
   "source": [
    "with_photo = (len(df_u1_photo_filtered[(df_u1_photo_filtered['has_photo']==True)])/len(df_u1_photo_filtered))\n",
    "without_photo = (len(df_u1_photo_filtered[(df_u1_photo_filtered['has_photo']==False)])/len(df_u1_photo_filtered))\n",
    "print(round(with_photo + without_photo)== 1.0)\n",
    "print(\"Has photo: \", round(with_photo,2))\n",
    "\n",
    "is_premium = (len(df_u1_premium_filtered[(df_u1_premium_filtered['is_premium']==True)])/len(df_u1_premium_filtered))\n",
    "is_not_premium = (len(df_u1_premium_filtered[(df_u1_premium_filtered['is_premium']==False)])/len(df_u1_premium_filtered))\n",
    "print(round(is_premium + is_not_premium)== 1.0)\n",
    "print(\"Is premium: \", round(is_premium,2))"
   ]
  },
  {
   "cell_type": "markdown",
   "metadata": {},
   "source": [
    "#### Data gathered from Top doctors ignoring unknown values "
   ]
  },
  {
   "cell_type": "code",
   "execution_count": null,
   "metadata": {},
   "outputs": [],
   "source": [
    "# only doctors whose speciality is part of the intersection of the 3 countries\n",
    "df_u2 = df_u2[df_u2['speciality'].isin(intersection)] \n",
    "\n",
    "df_u2_sex_filtered = df_u2[(df_u2['sex']!=None) & (df_u2['sex']!='unknown')]\n",
    "df_u2_age_filtered = df_u2[df_u2.age.notnull() & df_u2.age.dropna()]\n",
    "df_u2_nationality_filtered = df_u2[df_u2.is_foreigner.notnull() & (df_u2['is_foreigner']!='unknown') & (df_u2['is_foreigner']!='tooshort')]"
   ]
  },
  {
   "cell_type": "markdown",
   "metadata": {},
   "source": [
    "#### Getting metrics for the different countries"
   ]
  },
  {
   "cell_type": "code",
   "execution_count": null,
   "metadata": {},
   "outputs": [],
   "source": [
    "def print_fairness_statistics_u2(country):\n",
    "    if country == 'Spain':\n",
    "        queries = f_queries_es\n",
    "    elif country == 'Colombia':\n",
    "        queries = f_queries_co \n",
    "    elif country == 'Mexico':\n",
    "        queries = f_queries_mx\n",
    "    else:\n",
    "        print(\"Wrong country\")\n",
    "        return\n",
    "    \n",
    "    print(\"Source: Top doctors \\nCountry: \",country)\n",
    "    min_size = get_min_size_elements(df_u2_sex_filtered, queries, source='top doctors', country=country, tag_name='speciality')\n",
    "    print(\"Ranking size: \",min_size)\n",
    "    print(\"Protected sex: female\\n\")\n",
    "    get_fairness_metrics(df_u2_sex_filtered, queries, 'top doctors', country, sex_discrimination, {'df':df_u1, 'protected_value':'female'}, min_size, tag_name='speciality')\n",
    "    \n",
    "    \n",
    "    print(\"Source: Top doctors \\nCountry: \",country)\n",
    "    min_size = get_min_size_elements(df_u2_age_filtered, queries, source='top doctors', country=country, tag_name='speciality')\n",
    "    \n",
    "    if min_size > 0:\n",
    "        print(\"Ranking size: \",min_size)\n",
    "        print(\"Protected sex: old people\\n\")\n",
    "        get_fairness_metrics(df_u2_age_filtered, queries, 'top doctors', country, old_age_discrimination, {'df':df_u1}, min_size, tag_name='speciality')\n",
    "\n",
    "\n",
    "        print(\"Source: Top doctors \\nCountry: \",country)\n",
    "        min_size = get_min_size_elements(df_u2_age_filtered, queries, source='top doctors', country=country, tag_name='speciality')\n",
    "        print(\"Ranking size: \",min_size)\n",
    "        print(\"Protected sex: young people\\n\")\n",
    "        get_fairness_metrics(df_u2_age_filtered, queries, 'top doctors', country, young_age_discrimination, {'df':df_u1}, min_size, tag_name='speciality')\n",
    "\n",
    "       \n",
    "    print(\"Source: Top doctors \\nCountry: \",country)\n",
    "    min_size = get_min_size_elements(df_u2_nationality_filtered, queries, source='top doctors', country=country, tag_name='speciality')\n",
    "    print(\"Ranking size: \",min_size)\n",
    "    print(\"Protected group: foreigner people\\n\")\n",
    "    get_fairness_metrics(df_u2_nationality_filtered, queries, 'top doctors', country, nationality_discrimination, {'df':df_u1, 'protected_value':'foreigner'}, min_size, tag_name='speciality')\n",
    "\n",
    "    print(\"Source: Top doctors \\nCountry: \",country)\n",
    "    min_size = get_min_size_elements(df_u2_nationality_filtered, queries, source='top doctors', country=country, tag_name='speciality')\n",
    "    print(\"Ranking size: \",min_size)\n",
    "    print(\"Protected group: not foreigner people\\n\")\n",
    "    get_fairness_metrics(df_u2_nationality_filtered, queries, 'top doctors', country, nationality_discrimination, {'df':df_u1, 'protected_value':'not foreigner'}, min_size, tag_name='speciality')\n",
    "    "
   ]
  },
  {
   "cell_type": "markdown",
   "metadata": {},
   "source": [
    "#### Showing metrics"
   ]
  },
  {
   "cell_type": "code",
   "execution_count": null,
   "metadata": {},
   "outputs": [],
   "source": [
    "# SPAIN\n",
    "sys.stdout = open('fairness_spain_u2.txt', 'w')\n",
    "print_fairness_statistics_u2(country='Spain')\n",
    "\n",
    "# COLOMBIA\n",
    "sys.stdout = open('fairness_colombia_u2.txt', 'w')\n",
    "print_fairness_statistics_u2(country='Colombia')\n",
    "\n",
    "# MEXICO\n",
    "sys.stdout = open('fairness_mexico_u2.txt', 'w')\n",
    "print_fairness_statistics_u2(country='Mexico')"
   ]
  },
  {
   "cell_type": "markdown",
   "metadata": {},
   "source": [
    "#### Other general statistics"
   ]
  },
  {
   "cell_type": "code",
   "execution_count": null,
   "metadata": {},
   "outputs": [],
   "source": [
    "was_awarded = (len(df_u2[(df_u2['was_awarded']==True)])/len(df_u2))\n",
    "was_not_awarded = (len(df_u2[(df_u2['was_awarded']==False)])/len(df_u2))\n",
    "print(round(was_awarded + was_not_awarded)== 1.0)\n",
    "print(\"Was awarded: \", round(was_awarded,2))\n",
    "\n",
    "with_photo = (len(df_u2[(df_u2['has_photo']==True)])/len(df_u2))\n",
    "without_photo = (len(df_u2[(df_u2['has_photo']==False)])/len(df_u2))\n",
    "print(round(with_photo + without_photo)== 1.0)\n",
    "print(\"Has photo: \", round(with_photo,2))"
   ]
  },
  {
   "cell_type": "code",
   "execution_count": null,
   "metadata": {},
   "outputs": [],
   "source": []
  }
 ],
 "metadata": {
  "kernelspec": {
   "display_name": "tfm-fair",
   "language": "python",
   "name": "tfm-fair"
  },
  "language_info": {
   "codemirror_mode": {
    "name": "ipython",
    "version": 3
   },
   "file_extension": ".py",
   "mimetype": "text/x-python",
   "name": "python",
   "nbconvert_exporter": "python",
   "pygments_lexer": "ipython3",
   "version": "3.6.8"
  }
 },
 "nbformat": 4,
 "nbformat_minor": 2
}
