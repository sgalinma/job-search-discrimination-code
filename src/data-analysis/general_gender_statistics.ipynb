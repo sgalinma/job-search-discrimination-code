{
 "cells": [
  {
   "cell_type": "markdown",
   "metadata": {},
   "source": [
    "This work is licensed under the Creative Commons Attribution 3.0 Unported License. To view a copy of this license, visit http://creativecommons.org/licenses/by/3.0/."
   ]
  },
  {
   "cell_type": "markdown",
   "metadata": {},
   "source": [
    "#### Importing libraries"
   ]
  },
  {
   "cell_type": "code",
   "execution_count": null,
   "metadata": {},
   "outputs": [],
   "source": [
    "import json\n",
    "import pandas as pd\n",
    "import warnings\n",
    "warnings.filterwarnings(\"ignore\")"
   ]
  },
  {
   "cell_type": "markdown",
   "metadata": {},
   "source": [
    "#### Loading scrapped data in dataframe format"
   ]
  },
  {
   "cell_type": "code",
   "execution_count": null,
   "metadata": {},
   "outputs": [],
   "source": [
    "with open('candidates-search/data/job_candidates_data.json') as f:\n",
    "    use_case_1 = json.load(f)\n",
    "    \n",
    "with open('medical-specialists-search/data/medical_specialists_data.json') as f:\n",
    "    use_case_2 = json.load(f)\n",
    "    \n",
    "use_case1_source = [candidate['_source'] for candidate in use_case_1['hits']['hits']]\n",
    "use_case2_source = [candidate['_source'] for candidate in use_case_2['hits']['hits']]\n",
    "\n",
    "df_u1 = pd.io.json.json_normalize(use_case1_source)\n",
    "df_u2 = pd.io.json.json_normalize(use_case2_source)"
   ]
  },
  {
   "cell_type": "markdown",
   "metadata": {},
   "source": [
    "#### Data gathered from Linkedin and Viadeo sites in Spain, France and United Kingdom"
   ]
  },
  {
   "cell_type": "code",
   "execution_count": null,
   "metadata": {},
   "outputs": [],
   "source": [
    "queries_fr_l = df_u1[(df_u1['country'] == \"France\") & (df_u1['source'] == 'linkedin')]['query'].drop_duplicates()\n",
    "queries_fr_v = df_u1[(df_u1['country'] == \"France\") & (df_u1['source'] == 'viadeo')]['query'].drop_duplicates()\n",
    "\n",
    "queries_es_l = df_u1[(df_u1['country'] == \"Spain\") & (df_u1['source'] == 'linkedin')]['query'].drop_duplicates()\n",
    "queries_es_v = df_u1[(df_u1['country'] == \"Spain\") & (df_u1['source'] == 'viadeo')]['query'].drop_duplicates()\n",
    "\n",
    "queries_uk_l = df_u1[(df_u1['country'] == \"United Kingdom\") & (df_u1['source'] == 'viadeo')]['query'].drop_duplicates()\n",
    "queries_uk_v = df_u1[(df_u1['country'] == \"United Kingdom\") & (df_u1['source'] == 'viadeo')]['query'].drop_duplicates()"
   ]
  },
  {
   "cell_type": "markdown",
   "metadata": {},
   "source": [
    "#### Obtain gender proportion"
   ]
  },
  {
   "cell_type": "code",
   "execution_count": null,
   "metadata": {},
   "outputs": [],
   "source": [
    "# Calculates gender proportion for the Top 10 and Top 20 positions of the ranking\n",
    "def get_metrics_gender(df, source, country, queries, tag_queries='query'):\n",
    "    print(\"Country: \" + country + \" Source: \" + source)\n",
    "    print(\"{: >20} {: >10} {: >10} {: >10} {: >10}{: >10} {: >10}\".format(\"Q\",\"%M#10\", \"%F#10\", \"%U#10\",\"%M#20\", \"%F#20\", \"%U#20\"))\n",
    "\n",
    "    for q in sorted(queries):\n",
    "        df_10 = df[(df[tag_queries] == q) & (df['source'] == source) & (df['country'] == country)].sort_values('ranking')[:10]\n",
    "        df_20 = df[(df[tag_queries] == q) & (df['source'] == source) & (df['country'] == country)].sort_values('ranking')[:20]\n",
    "        \n",
    "        m_10 = round((len(df_10[(df_10['gender'] == 'male')]) / float(10)) * 100,3)\n",
    "        f_10 = round((len(df_10[(df_10['gender'] == 'female')]) / float(10)) * 100,3)\n",
    "        u_10 = round((len(df_10[(df_10['gender'] == 'unknown')]) / float(10)) * 100,3)\n",
    "        \n",
    "        m_20 = round((len(df_20[(df_20['gender'] == 'male')]) / float(20)) * 100,3)\n",
    "        f_20 = round((len(df_20[(df_20['gender'] == 'female')]) / float(20)) * 100,3)\n",
    "        u_20 = round((len(df_20[(df_20['gender'] == 'unknown')]) / float(20)) * 100,3)\n",
    "        \n",
    "        # If the query has assigned less than 10 people, the sum of proportions will not result in 100%\n",
    "        print(\"{: >20} {: >10} {: >10} {: >10} {: >10}{: >10} {: >10}\".format(q,m_10,f_10,u_10,m_20,f_20,u_20))\n",
    "\n",
    "\n",
    "# Function to obtain queries that have at least a minimum number of people\n",
    "def get_filtered_queries(df, queries, source, country, tag_queries='query', min_all_len = 20):\n",
    "    filtered_queries = []\n",
    "\n",
    "    #print(\"Country:\" + country +\" Source: \"+ source)\n",
    "    #print(\"{: >15} {: >15} {: >15} {: >15} {: >15}\".format(\"Query\", \"All\", \"Male\", \"Female\", \"Other\"))\n",
    "    for query in sorted(queries):\n",
    "        all_len = len(df[(df[tag_queries] == query) & (df['source'] == source) & (df['country'] == country)])\n",
    "        female_len = len(df[(df[tag_queries] == query) & (df['source'] == source) & (df['gender']== 'female') & (df['country'] == country)])\n",
    "        male_len = len(df[(df[tag_queries] == query) & (df['source'] == source) & (df['gender']== 'male') & (df['country'] == country)])\n",
    "        other_len = all_len - (male_len + female_len)\n",
    "        if all_len >= min_all_len:\n",
    "            filtered_queries.append(query)\n",
    "            #print(\"{: >15} {: >15} {: >15} {: >15} {: >15}\".format(query,all_len,male_len,female_len,other_len))\n",
    "    return filtered_queries\n",
    "\n",
    "def get_filtered_queries_linkedin(country, queries):\n",
    "    return get_filtered_queries(df_u1, queries, 'linkedin', country, min_all_len = 20)\n",
    "\n",
    "def get_filtered_queries_viadeo(country, queries):\n",
    "    return get_filtered_queries(df_u1, queries, 'viadeo', country,min_all_len = 20)            "
   ]
  },
  {
   "cell_type": "markdown",
   "metadata": {},
   "source": [
    "#### Obtain proportion metrics per country and data source"
   ]
  },
  {
   "cell_type": "code",
   "execution_count": null,
   "metadata": {},
   "outputs": [],
   "source": [
    "get_metrics_gender(df_u1, 'linkedin', 'Spain', queries_es_l)\n",
    "get_metrics_gender(df_u1, 'viadeo', 'Spain', queries_es_v)\n",
    "print(\"------------------------------------------------------------------------------------\")\n",
    "get_metrics_gender(df_u1, 'linkedin', 'United Kingdom', queries_uk_l)\n",
    "get_metrics_gender(df_u1, 'viadeo', 'United Kingdom', queries_uk_v)\n",
    "print(\"------------------------------------------------------------------------------------\")\n",
    "get_metrics_gender(df_u1, 'linkedin', 'France', queries_fr_l)\n",
    "get_metrics_gender(df_u1, 'viadeo', 'France', queries_fr_v)"
   ]
  },
  {
   "cell_type": "markdown",
   "metadata": {},
   "source": [
    "#### Calculate unknown rate per country"
   ]
  },
  {
   "cell_type": "code",
   "execution_count": null,
   "metadata": {},
   "outputs": [],
   "source": [
    "unknown = len(df_u1[(df_u1['country']=='Spain') & (df_u1['gender']=='unknown')])\n",
    "total = len(df_u1[(df_u1['country']=='Spain')])\n",
    "print('ES rate unknown: ',round(unknown/float(total),2))\n",
    "\n",
    "unknown = len(df_u1[(df_u1['country']=='United Kingdom') & (df_u1['gender']=='unknown')])\n",
    "total = len(df_u1[(df_u1['country']=='United Kingdom')])\n",
    "print('UK rate unknown: ',round(unknown/float(total),2))\n",
    "\n",
    "unknown = len(df_u1[(df_u1['country']=='France') & (df_u1['gender']=='unknown')])\n",
    "total = len(df_u1[(df_u1['country']=='France')])\n",
    "print('FR rate unknown: ',round(unknown/float(total),2))"
   ]
  },
  {
   "cell_type": "markdown",
   "metadata": {},
   "source": [
    "#### Data gathered from Top doctors sites in Spain, Colombia and Mexico"
   ]
  },
  {
   "cell_type": "code",
   "execution_count": null,
   "metadata": {},
   "outputs": [],
   "source": [
    "queries_co = df_u2[(df_u2['country'] == \"Colombia\") & (df_u2['source'] == 'top doctors')]['speciality'].drop_duplicates()\n",
    "queries_es = df_u2[(df_u2['country'] == \"Spain\") & (df_u2['source'] == 'top doctors')]['speciality'].drop_duplicates()\n",
    "queries_mx = df_u2[(df_u2['country'] == \"Mexico\") & (df_u2['source'] == 'top doctors')]['speciality'].drop_duplicates()"
   ]
  },
  {
   "cell_type": "code",
   "execution_count": null,
   "metadata": {},
   "outputs": [],
   "source": [
    "# Function to obtain specialities that have at least a minimum number of people\n",
    "def get_filtered_specialisties(df, specialities, country, source = 'top doctors', min_all_len = 20):\n",
    "    filtered_specialities = []\n",
    "\n",
    "    #print(\"Country:\" + country +\" Source: \"+ source)\n",
    "    #print(\"{: >15} {: >15} {: >15} {: >15} {: >15}\".format(\"Speciality\", \"All\", \"Male\", \"Female\", \"Other\"))\n",
    "    for speciality in sorted(specialities):\n",
    "        all_len = len(df[(df['speciality'] == speciality) & (df['source'] == source) & (df['country'] == country)])\n",
    "        female_len = len(df[(df['speciality'] == speciality) & (df['source'] == source) & (df['gender']== 'female') & (df['country'] == country)])\n",
    "        male_len = len(df[(df['speciality'] == speciality) & (df['source'] == source) & (df['gender']== 'male') & (df['country'] == country)])\n",
    "        other_len = all_len - (male_len + female_len)\n",
    "        if all_len >= min_all_len:\n",
    "            filtered_specialities.append(speciality)\n",
    "            #print(\"{: >15} {: >15} {: >15} {: >15} {: >15}\".format(speciality,all_len,male_len,female_len,other_len))\n",
    "    return filtered_specialities"
   ]
  },
  {
   "cell_type": "markdown",
   "metadata": {},
   "source": [
    "#### Getting subspecialities that the 3 countries have in common (intersection) with a minimum presence of 20 people"
   ]
  },
  {
   "cell_type": "code",
   "execution_count": null,
   "metadata": {},
   "outputs": [],
   "source": [
    "f_queries_co = get_filtered_specialisties(df_u2, queries_co, 'Colombia')\n",
    "f_queries_mx = get_filtered_specialisties(df_u2, queries_mx, 'Mexico')\n",
    "f_queries_es = get_filtered_specialisties(df_u2, queries_es, 'Spain')\n",
    "\n",
    "intersection = list(set(f_queries_co) & set(f_queries_mx) & set(f_queries_es))\n",
    "\n",
    "print(intersection)"
   ]
  },
  {
   "cell_type": "code",
   "execution_count": null,
   "metadata": {},
   "outputs": [],
   "source": [
    "get_metrics_gender(df_u2, 'top doctors', 'Colombia', intersection, 'speciality')\n",
    "print(\"------------------------------------------------------------------------------------\")\n",
    "get_metrics_gender(df_u2, 'top doctors', 'Spain', intersection, 'speciality')\n",
    "print(\"------------------------------------------------------------------------------------\")\n",
    "get_metrics_gender(df_u2, 'top doctors', 'Mexico', intersection, 'speciality')"
   ]
  },
  {
   "cell_type": "markdown",
   "metadata": {},
   "source": [
    "#### Unknown rate per source"
   ]
  },
  {
   "cell_type": "code",
   "execution_count": null,
   "metadata": {},
   "outputs": [],
   "source": [
    "medical_specialists_to_analyze = []\n",
    "for speciality in intersection:\n",
    "    medical_specialists_to_analyze.append(df_u2[(df_u2['speciality'] == speciality)])\n",
    "\n",
    "df_u2_to_analyze = pd.concat(medical_specialists_to_analyze)\n",
    "unknown = len(df_u2_to_analyze[df_u2_to_analyze['gender']=='unknown'])\n",
    "total = len(df_u2_to_analyze)\n",
    "print('rate unknown: ',round(unknown/float(total),3))"
   ]
  },
  {
   "cell_type": "markdown",
   "metadata": {},
   "source": [
    "#### Unknown justification"
   ]
  },
  {
   "cell_type": "code",
   "execution_count": null,
   "metadata": {},
   "outputs": [],
   "source": [
    "# Extracting a random sample of size 20 to see the names and surnames of the profiles gathered \n",
    "# to check why their gender is marked as unknown\n",
    "def store_unknown_values(df, filename):\n",
    "    f = open(filename + \".csv\",\"w+\")\n",
    "    df_unknown = df[df['gender']=='unknown']\n",
    "    #print(\"len unknown: \",len(df_unknown))\n",
    "    f.write(\"len unknown: \" + str(len(df_unknown)) + \"\\n\\n\")\n",
    "    f.write(str(df_unknown)+\"\\n\\n\")\n",
    "\n",
    "\n",
    "    # Get 20 random numbers (no repetition)\n",
    "    import random\n",
    "    random_ints=[]\n",
    "    while(len(random_ints)<20):\n",
    "        r = random.randint(1,len(df_unknown))\n",
    "        if r not in random_ints:\n",
    "            random_ints.append(r)\n",
    "    #print(random_ints)\n",
    "    f.write(str(random_ints)+\"\\n\\n\")\n",
    "\n",
    "    # Get rows by index\n",
    "    source_id = []\n",
    "    for candidate in use_case_1['hits']['hits']:\n",
    "        candidate['_source']['_id'] = candidate['_id']\n",
    "        source_id.append(candidate['_source'])\n",
    "\n",
    "    # Check full name\n",
    "    df_id = pd.io.json.json_normalize(source_id)\n",
    "    df_unknown = df_id[df_id['gender'] == 'unknown'][['_id','name','surnames','gender']]\n",
    "    df_unknown.to_csv(filename + \".csv\", sep='\\t', encoding='utf-8')\n",
    "\n",
    "store_unknown_values(df_u1, filename = 'unknown_job_candidates')\n",
    "store_unknown_values(df_u2, filename = 'unknown_medical_specialists')"
   ]
  },
  {
   "cell_type": "markdown",
   "metadata": {},
   "source": [
    "#### Storing variables to be able to use them in a different notebook"
   ]
  },
  {
   "cell_type": "code",
   "execution_count": null,
   "metadata": {},
   "outputs": [],
   "source": [
    "%store df_u1\n",
    "%store queries_fr_l\n",
    "%store queries_fr_v\n",
    "%store queries_es_l\n",
    "%store queries_es_v\n",
    "%store queries_uk_l\n",
    "%store queries_uk_v\n",
    "%store df_u2\n",
    "%store intersection\n",
    "%store f_queries_co\n",
    "%store f_queries_mx\n",
    "%store f_queries_es\n",
    "%store intersection"
   ]
  }
 ],
 "metadata": {
  "kernelspec": {
   "display_name": "Python 3",
   "language": "python",
   "name": "python3"
  },
  "language_info": {
   "codemirror_mode": {
    "name": "ipython",
    "version": 3
   },
   "file_extension": ".py",
   "mimetype": "text/x-python",
   "name": "python",
   "nbconvert_exporter": "python",
   "pygments_lexer": "ipython3",
   "version": "3.6.8"
  }
 },
 "nbformat": 4,
 "nbformat_minor": 2
}
